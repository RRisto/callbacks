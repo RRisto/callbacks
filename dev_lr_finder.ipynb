{
 "cells": [
  {
   "cell_type": "code",
   "execution_count": 139,
   "metadata": {},
   "outputs": [],
   "source": [
    "import torch\n",
    "import torch.nn as nn\n",
    "from torch import tensor\n",
    "from PIL import Image\n",
    "from torch.utils.data import DataLoader\n",
    "from pathlib import Path\n",
    "import numpy as np\n",
    "import pandas as pd\n",
    "import time\n",
    "import matplotlib.pyplot as plt"
   ]
  },
  {
   "cell_type": "markdown",
   "metadata": {},
   "source": [
    "## Helpers"
   ]
  },
  {
   "cell_type": "code",
   "execution_count": 140,
   "metadata": {},
   "outputs": [],
   "source": [
    "def load_image(infilename):\n",
    "    img = Image.open(infilename)\n",
    "    img.load()\n",
    "    data = np.asarray(img, dtype=np.int32)\n",
    "    return data\n",
    "\n",
    "\n",
    "def get_num_tensors(path):\n",
    "    nums = sorted(list((path).glob('*.png')))\n",
    "    num_tensors = [tensor(load_image(o)) for o in nums]\n",
    "    stacked_num = torch.stack(num_tensors).float() / 255\n",
    "    return stacked_num\n",
    "\n",
    "\n",
    "def get_nums_tensors(root_path, nums=[3, 7]):\n",
    "    stacked_train_tensors = []\n",
    "    stacked_valid_tensors = []\n",
    "    for num in nums:\n",
    "        stacked_train_tensors.append(get_num_tensors(path / 'train' / str(num)))\n",
    "        stacked_valid_tensors.append(get_num_tensors(path / 'valid' / str(num)))\n",
    "    return stacked_train_tensors, stacked_valid_tensors\n",
    "\n",
    "\n",
    "def tensors2dset(stacked_tensors):\n",
    "    x = torch.cat(stacked_tensors).view(-1, 28 * 28)\n",
    "    # assumes that we have only 2 levels of values in y (1 and 0)\n",
    "    y = [i for i, sublist in enumerate(stacked_tensors) for item in sublist]\n",
    "    y = tensor(y).unsqueeze(1)\n",
    "    return x, y\n",
    "\n",
    "\n",
    "def get_dsets(root_path, nums=[3, 7]):\n",
    "    stacked_train_tensors, stacked_valid_tensors = get_nums_tensors(root_path, nums)\n",
    "    train_x, train_y = tensors2dset(stacked_train_tensors)\n",
    "    valid_x, valid_y = tensors2dset(stacked_valid_tensors)\n",
    "\n",
    "    train_dset = list(zip(train_x, train_y))\n",
    "    valid_dset = list(zip(valid_x, valid_y))\n",
    "    return train_dset, valid_dset\n"
   ]
  },
  {
   "cell_type": "markdown",
   "metadata": {},
   "source": [
    "## Path"
   ]
  },
  {
   "cell_type": "code",
   "execution_count": 141,
   "metadata": {},
   "outputs": [],
   "source": [
    "path = Path('data')"
   ]
  },
  {
   "cell_type": "markdown",
   "metadata": {},
   "source": [
    "## Callbacks, learner"
   ]
  },
  {
   "cell_type": "code",
   "execution_count": 142,
   "metadata": {},
   "outputs": [],
   "source": [
    "def mnist_loss(predictions, targets):\n",
    "    predictions = predictions.sigmoid()\n",
    "    return torch.where(targets == 1, 1 - predictions, predictions).mean()\n",
    "\n",
    "\n",
    "class BasicOptim:\n",
    "    def __init__(self, params, lr):\n",
    "        self.params, self.lr = list(params), lr\n",
    "\n",
    "    def step(self, *args, **kwargs):\n",
    "        for p in self.params: p.data -= p.grad.data * self.lr\n",
    "\n",
    "    def zero_grad(self, *args, **kwargs):\n",
    "        for p in self.params: p.grad = None\n",
    "\n",
    "def batch_accuracy(xb, yb):\n",
    "    preds = xb.sigmoid()\n",
    "    correct = (preds > 0.5) == yb\n",
    "    return correct.float().mean()\n",
    "\n",
    "\n",
    "def validate_epoch(model, valid_dl):\n",
    "    model.eval()\n",
    "    accs = [batch_accuracy(model(xb), yb) for xb, yb in valid_dl]\n",
    "    model.train()\n",
    "    return round(torch.stack(accs).mean().item(), 4)\n",
    "\n",
    "\n",
    "# callbacks\n",
    "class Callback():\n",
    "    def begin_fit(self):\n",
    "        return True\n",
    "\n",
    "    def after_fit(self): return True\n",
    "\n",
    "    def begin_epoch(self, epoch):\n",
    "        self.epoch = epoch\n",
    "        return True\n",
    "\n",
    "    def begin_validate(self): return True\n",
    "\n",
    "    def after_epoch(self): return True\n",
    "\n",
    "    def begin_batch(self, xb, yb):\n",
    "        self.xb, self.yb = xb, yb\n",
    "        return True\n",
    "\n",
    "    def after_loss(self, loss):\n",
    "        self.loss = loss\n",
    "        return True\n",
    "\n",
    "    def after_backward(self): return True\n",
    "\n",
    "    def after_step(self): return True\n",
    "\n",
    "\n",
    "class BatchCounter(Callback):\n",
    "    def begin_epoch(self, epoch):\n",
    "        self.epoch = epoch\n",
    "        self.batch_counter = 1\n",
    "        return True\n",
    "\n",
    "    def after_step(self):\n",
    "        self.batch_counter += 1\n",
    "        if self.batch_counter % 200 == 0: print(f'Batch {self.batch_counter} completed')\n",
    "        return True\n",
    "\n",
    "\n",
    "class TimeCheck(Callback):\n",
    "    def begin_fit(self):\n",
    "        self.epoch_counter = 1\n",
    "        return True\n",
    "\n",
    "    def begin_epoch(self, epoch):\n",
    "        self.epoch = epoch\n",
    "        print(f'Epoch {self.epoch_counter} started at {time.strftime(\"%H:%M:%S\", time.gmtime())}')\n",
    "        self.epoch_counter += 1\n",
    "        return True\n",
    "\n",
    "\n",
    "class PrintLoss(Callback):\n",
    "    def after_epoch(self):\n",
    "        print(f'Loss train: {round(self.loss.item(), 4)}')\n",
    "        return True\n",
    "\n",
    "\n",
    "class PrintValidLoss(Callback):\n",
    "    def __init__(self):\n",
    "        self.in_train = True\n",
    "\n",
    "    def begin_validate(self):\n",
    "        self.in_train = False\n",
    "        self.val_losses = []\n",
    "        return True\n",
    "\n",
    "    def begin_batch(self, xb, yb):\n",
    "        if not self.in_train:\n",
    "            super(PrintValidLoss, self).begin_batch(xb, yb)\n",
    "        return True\n",
    "\n",
    "    def after_loss(self, loss):\n",
    "        if not self.in_train:\n",
    "            self.val_losses.append(loss.item())\n",
    "        return False\n",
    "\n",
    "    def after_epoch(self):\n",
    "        if not self.in_train:\n",
    "            print(f'Loss valid: {self.val_losses}')\n",
    "            self.in_train = True\n",
    "        return True\n",
    "\n",
    "\n",
    "class GetValAcc(Callback):\n",
    "    def begin_fit(self):\n",
    "        self.in_train = True\n",
    "        return True\n",
    "\n",
    "    def batch_accuracy(self, xb, yb):\n",
    "        xb = self.learn.model(xb)\n",
    "        preds = xb.sigmoid()\n",
    "        correct = (preds > 0.5) == yb\n",
    "        return correct.float().mean().item()\n",
    "\n",
    "    def begin_validate(self):\n",
    "        self.in_train = False\n",
    "        self.accs = []\n",
    "        return True\n",
    "\n",
    "    def begin_batch(self, xb, yb):\n",
    "        if not self.in_train:\n",
    "            acc = self.batch_accuracy(xb, yb)\n",
    "            self.accs.append(acc)\n",
    "        return True\n",
    "\n",
    "    def after_epoch(self):\n",
    "        if not self.in_train:\n",
    "            print(f'Valid accuracy: {round(np.mean(self.accs), 4)}')\n",
    "            self.in_train = True\n",
    "        return True\n",
    "\n",
    "\n",
    "def batch_accuracy(xb, yb):\n",
    "    preds = xb.sigmoid()\n",
    "    correct = (preds > 0.5) == yb\n",
    "    return correct.float().mean()\n",
    "\n",
    "\n",
    "def validate_epoch(model, valid_dl):\n",
    "    accs = [batch_accuracy(model(xb), yb) for xb, yb in valid_dl]\n",
    "    return round(torch.stack(accs).mean().item(), 4)\n",
    "\n",
    "\n",
    "class CallbackHandler():\n",
    "    def __init__(self, cbs=None):\n",
    "        self.cbs = cbs if cbs else []\n",
    "\n",
    "    def set_learn(self, learn):\n",
    "        self.learn = learn\n",
    "        for cb in self.cbs:\n",
    "            cb.learn = self.learn\n",
    "\n",
    "    def begin_fit(self):\n",
    "        self.in_train = True\n",
    "        self.learn.stop = False\n",
    "        res = True\n",
    "        for cb in self.cbs: res = res and cb.begin_fit()\n",
    "        return res\n",
    "\n",
    "    def after_fit(self):\n",
    "        res = not self.in_train\n",
    "        for cb in self.cbs: res = res and cb.after_fit()\n",
    "        return res\n",
    "\n",
    "    def begin_epoch(self, epoch):\n",
    "        self.learn.model.train()\n",
    "        self.in_train = True\n",
    "        res = True\n",
    "        for cb in self.cbs: res = res and cb.begin_epoch(epoch)\n",
    "        return res\n",
    "\n",
    "    def begin_validate(self):\n",
    "        self.learn.model.eval()\n",
    "        self.in_train = False\n",
    "        res = True\n",
    "        for cb in self.cbs: res = res and cb.begin_validate()\n",
    "        return res\n",
    "\n",
    "    def after_epoch(self):\n",
    "        res = True\n",
    "        for cb in self.cbs: res = res and cb.after_epoch()\n",
    "        return res\n",
    "\n",
    "    def begin_batch(self, xb, yb):\n",
    "        res = True\n",
    "        for cb in self.cbs: res = res and cb.begin_batch(xb, yb)\n",
    "        return res\n",
    "\n",
    "    def after_loss(self, loss):\n",
    "        res = self.in_train\n",
    "        for cb in self.cbs:\n",
    "            res = res and cb.after_loss(loss)\n",
    "        return res\n",
    "\n",
    "    def after_backward(self):\n",
    "        res = True\n",
    "        for cb in self.cbs: res = res and cb.after_backward()\n",
    "        return res\n",
    "\n",
    "    def after_step(self):\n",
    "        res = True\n",
    "        for cb in self.cbs: res = res and cb.after_step()\n",
    "        return res\n",
    "\n",
    "    def do_stop(self):\n",
    "        try:\n",
    "            return self.learn.stop\n",
    "        finally:\n",
    "            self.learn.stop = False\n",
    "\n",
    "\n",
    "def one_batch(xb, yb, cb, learn):\n",
    "    if not cb.begin_batch(xb, yb): return\n",
    "    loss = cb.learn.loss_func(cb.learn.model(xb), yb)\n",
    "    if not cb.after_loss(loss): return\n",
    "    loss.backward()\n",
    "    if cb.after_backward(): cb.learn.opt.step()\n",
    "    if cb.after_step(): cb.learn.opt.zero_grad()\n",
    "\n",
    "\n",
    "def all_batches(dl, cb, learn):\n",
    "    for xb, yb in dl:\n",
    "        one_batch(xb, yb, cb, learn)\n",
    "        if cb.do_stop(): return\n",
    "\n",
    "\n",
    "def fit(epochs, learn):\n",
    "    if not learn.cb.begin_fit(): return\n",
    "    for epoch in range(epochs):\n",
    "        if not learn.cb.begin_epoch(epoch): continue\n",
    "        all_batches(learn.train_dl, learn.cb, learn)  ###\n",
    "\n",
    "        if learn.cb.begin_validate():\n",
    "            with torch.no_grad(): all_batches(learn.valid_dl, learn.cb, learn)\n",
    "        if learn.cb.do_stop() or not learn.cb.after_epoch(): break\n",
    "    learn.cb.after_fit()\n",
    "\n",
    "\n",
    "class Learner:\n",
    "    def __init__(self, model, loss_func, opt, train_dl, valid_dl, cb):\n",
    "        self.model = model\n",
    "        self.loss_func = loss_func\n",
    "        self.opt = opt\n",
    "        self.train_dl = train_dl\n",
    "        self.valid_dl = valid_dl\n",
    "        self.cb = cb\n",
    "        self.cb.set_learn(self)\n"
   ]
  },
  {
   "cell_type": "markdown",
   "metadata": {},
   "source": [
    "## Data, model"
   ]
  },
  {
   "cell_type": "code",
   "execution_count": 143,
   "metadata": {},
   "outputs": [],
   "source": [
    "train_dset, valid_dset = get_dsets(path)\n",
    "\n",
    "dl = DataLoader(train_dset, batch_size=256)\n",
    "valid_dl = DataLoader(valid_dset, batch_size=256)\n",
    "\n",
    "simple_net = nn.Sequential(\n",
    "    nn.Linear(28 * 28, 30),\n",
    "    nn.ReLU(),\n",
    "    nn.Linear(30, 1)\n",
    ")"
   ]
  },
  {
   "cell_type": "markdown",
   "metadata": {},
   "source": [
    "## Helpers lr finder"
   ]
  },
  {
   "cell_type": "code",
   "execution_count": 144,
   "metadata": {},
   "outputs": [
    {
     "data": {
      "text/plain": [
       "0.20009"
      ]
     },
     "execution_count": 144,
     "metadata": {},
     "output_type": "execute_result"
    }
   ],
   "source": [
    "def annealing_linear(start, end, pct: float):\n",
    "    \"Linearly anneal from `start` to `end` as pct goes from 0.0 to 1.0.\"\n",
    "    return start + pct * (end - start)\n",
    "\n",
    "annealing_linear(0.0001, 2.0, 0.1)"
   ]
  },
  {
   "cell_type": "code",
   "execution_count": 145,
   "metadata": {},
   "outputs": [
    {
     "data": {
      "text/plain": [
       "0.00026921732181969566"
      ]
     },
     "execution_count": 145,
     "metadata": {},
     "output_type": "execute_result"
    }
   ],
   "source": [
    "def annealing_exp(start, end, pct: float):\n",
    "    \"Exponentially anneal from `start` to `end` as pct goes from 0.0 to 1.0.\"\n",
    "    return start * (end / start) ** pct\n",
    "\n",
    "annealing_exp(0.0001, 2.0, 0.1)"
   ]
  },
  {
   "cell_type": "code",
   "execution_count": 146,
   "metadata": {},
   "outputs": [],
   "source": [
    "def annealing_no(start, end, pct: float):\n",
    "    \"No annealing, always return `start`.\"\n",
    "    return\n",
    "\n",
    "def is_tuple(x) -> bool: return isinstance(x, tuple)\n",
    "\n",
    "\n",
    "def is_listy(x) -> bool: return isinstance(x, (tuple, list))"
   ]
  },
  {
   "cell_type": "code",
   "execution_count": 147,
   "metadata": {},
   "outputs": [
    {
     "data": {
      "text/plain": [
       "0.0014125375446227544"
      ]
     },
     "execution_count": 147,
     "metadata": {},
     "output_type": "execute_result"
    }
   ],
   "source": [
    "class Scheduler():\n",
    "    \"Used to \\\"step\\\" from start,end (`vals`) over `n_iter` iterations on a schedule defined by `func`\"\n",
    "\n",
    "    def __init__(self, vals, n_iter: int, func=None):\n",
    "        self.start, self.end = (vals[0], vals[1]) if is_tuple(vals) else (vals, 0)\n",
    "        self.n_iter = max(1, n_iter)\n",
    "        if func is None:\n",
    "            self.func = annealing_linear if is_tuple(vals) else annealing_no\n",
    "        else:\n",
    "            self.func = func\n",
    "        self.n = 0\n",
    "\n",
    "    def restart(self):\n",
    "        self.n = 0\n",
    "\n",
    "    def step(self):\n",
    "        \"Return next value along annealed schedule.\"\n",
    "        self.n += 1\n",
    "        return self.func(self.start, self.end, self.n / self.n_iter)\n",
    "\n",
    "    @property\n",
    "    def is_done(self) -> bool:\n",
    "        \"Return `True` if schedule completed.\"\n",
    "        return self.n >= self.n_iter\n",
    "    \n",
    "sched=Scheduler((0.001, 1.0), 20, annealing_exp)\n",
    "sched.step()"
   ]
  },
  {
   "cell_type": "code",
   "execution_count": 148,
   "metadata": {},
   "outputs": [
    {
     "data": {
      "text/plain": [
       "0.00199526231496888"
      ]
     },
     "execution_count": 148,
     "metadata": {},
     "output_type": "execute_result"
    }
   ],
   "source": [
    "sched.step()"
   ]
  },
  {
   "cell_type": "code",
   "execution_count": 149,
   "metadata": {},
   "outputs": [],
   "source": [
    "class LRFinder(Callback):\n",
    "    \"Causes `learn` to go on a mock training from `start_lr` to `end_lr` for `num_it` iterations.\"\n",
    "\n",
    "    def __init__(self, start_lr: float = 1e-7, end_lr: float = 10, num_it: int = 100,\n",
    "                 stop_div: bool = True, annealing_func=annealing_linear, beta=.98):\n",
    "        self.stop_div = stop_div\n",
    "        self.sched = Scheduler((start_lr, end_lr), num_it, annealing_func)\n",
    "        self.lrs = []\n",
    "        self.losses = []\n",
    "        self.beta=beta\n",
    "        self.avg_loss=0\n",
    "\n",
    "    def begin_fit(self):\n",
    "        \"Initialize optimizer and learner hyperparameters.\"\n",
    "        # setattr(pbar, 'clean_on_interrupt', True)\n",
    "        # self.learn.save('tmp')\n",
    "        self.iteration = 1\n",
    "        self.opt = self.learn.opt\n",
    "        self.opt.lr = self.sched.start\n",
    "        self.stop, self.best_loss = False, 0.\n",
    "        return {'skip_validate': True}\n",
    "\n",
    "    def after_loss(self, loss, **kwargs):\n",
    "        \"Determine if loss has runaway and we should stop.\"\n",
    "        self.avg_loss = self.beta * self.avg_loss + (1-self.beta) *loss.item()\n",
    "        smooth_loss = self.avg_loss / (1 - self.beta**self.iteration)\n",
    "        \n",
    "        \n",
    "        if self.iteration == 0 or smooth_loss < self.best_loss: self.best_loss = smooth_loss\n",
    "        self.lrs.append(self.opt.lr)\n",
    "        self.losses.append(smooth_loss)\n",
    "        self.opt.lr = self.sched.step()\n",
    "        if self.sched.is_done or (self.stop_div and (smooth_loss > 4 * self.best_loss or torch.isnan(smooth_loss))):\n",
    "            # We use the smoothed loss to decide on the stopping since it's less shaky.\n",
    "            if not self.stop: self.stop = self.iteration\n",
    "            return False\n",
    "        self.iteration += 1\n",
    "        return True\n",
    "\n",
    "    def after_epoch(self, **kwargs):\n",
    "        if self.stop: return False\n",
    "\n",
    "    def after_fit(self, **kwargs):\n",
    "        \"Cleanup learn model weights disturbed during LRFinder exploration.\"\n",
    "        # self.learn.load('tmp', purge=False)\n",
    "        if hasattr(self.learn.model, 'reset'): self.learn.model.reset()\n",
    "        # for cb in self.cb:\n",
    "        #     if hasattr(cb, 'reset'): cb.reset()\n",
    "        print('LR Finder is complete, type {learner_name}.recorder.plot() to see the graph.')\n",
    "        df_lr_loss=pd.DataFrame({'loss':self.losses[10:-5], 'lr':np.log(self.lrs[10:-5])})\n",
    "        df_lr_loss=df_lr_loss.set_index('lr')\n",
    "        df_lr_loss.loss.plot()\n",
    "        print(self.losses[10:-5])\n",
    "        print(self.lrs[10:-5])\n",
    "#         plt.plot(np.log10(self.lrs), self.losses)\n",
    "        # total_batches = epoch * num_batch\n",
    "        # if total_batches - self.stop > 10:\n",
    "        #     print(\n",
    "        #         f\"Best loss at batch #{self.stop}/{total_batches}, may consider .plot(skip_end={total_batches - self.stop + 3})\")\n"
   ]
  },
  {
   "cell_type": "code",
   "execution_count": null,
   "metadata": {},
   "outputs": [],
   "source": []
  },
  {
   "cell_type": "code",
   "execution_count": 150,
   "metadata": {},
   "outputs": [],
   "source": [
    "def lr_find(start_lr=1e-7, end_lr=10, num_it: int = 49, stop_div: bool = True, wd: float = None, \n",
    "            annealing_func=annealing_exp):\n",
    "    \"Explore lr from `start_lr` to `end_lr` over `num_it` iterations in `learn`. If `stop_div`, stops when loss diverges.\"\n",
    "    # start_lr = learn.lr_range(start_lr)\n",
    "    # start_lr = np.array(start_lr) if is_listy(start_lr) else start_lr\n",
    "    # end_lr = learn.lr_range(end_lr)\n",
    "    # end_lr = np.array(end_lr) if is_listy(end_lr) else end_lr\n",
    "    opt = BasicOptim(simple_net.parameters(), start_lr)\n",
    "    cb = LRFinder(start_lr, end_lr, num_it, stop_div, annealing_func=annealing_func)\n",
    "    # todo make dynamic\n",
    "    learner = Learner(simple_net, mnist_loss, opt, dl, valid_dl, cb=CallbackHandler([cb]))\n",
    "    epochs = int(np.ceil(num_it / len(learner.train_dl)))\n",
    "    fit(epochs, learn=learner)\n",
    "\n",
    "\n",
    "#run\n",
    "\n",
    "lr = 1e-3\n",
    "opt = BasicOptim(simple_net.parameters(), lr)\n",
    "\n",
    "\n",
    "# fit(10, learn=learner, cb=CallbackHandler([BatchCounter(), TimeCheck(), PrintLoss(), PrintValidLoss()]))\n",
    "# fit(10, learn=learner, cb=CallbackHandler([BatchCounter(), TimeCheck(), PrintLoss(), GetValAcc()]))\n",
    "# fit(10, learn=learner)\n",
    "#lr_find(learner, start_lr=1e-7, end_lr=10, num_it = 100, stop_div = True, wd = None)"
   ]
  },
  {
   "cell_type": "code",
   "execution_count": 165,
   "metadata": {},
   "outputs": [
    {
     "data": {
      "text/plain": [
       "[<matplotlib.lines.Line2D at 0x27cc246eac8>]"
      ]
     },
     "execution_count": 165,
     "metadata": {},
     "output_type": "execute_result"
    },
    {
     "data": {
      "image/png": "[encoded data removed]",
      "text/plain": [
       "<Figure size 432x288 with 1 Axes>"
      ]
     },
     "metadata": {
      "needs_background": "light"
     },
     "output_type": "display_data"
    }
   ],
   "source": [
    "sched = Scheduler((1e-7, 1), n_iter=50, func=annealing_exp)\n",
    "lrs=[sched.step() for _ in range(50)]\n",
    "plt.plot(lrs)"
   ]
  },
  {
   "cell_type": "code",
   "execution_count": 170,
   "metadata": {},
   "outputs": [
    {
     "data": {
      "text/plain": [
       "array([1.38038426e-07, 1.90546072e-07, 2.63026799e-07, 3.63078055e-07,\n",
       "       5.01187234e-07, 6.91830971e-07, 9.54992586e-07, 1.31825674e-06,\n",
       "       1.81970086e-06, 2.51188643e-06, 3.46736850e-06, 4.78630092e-06,\n",
       "       6.60693448e-06, 9.12010839e-06, 1.25892541e-05, 1.73780083e-05,\n",
       "       2.39883292e-05, 3.31131121e-05, 4.57088190e-05, 6.30957344e-05,\n",
       "       8.70963590e-05, 1.20226443e-04, 1.65958691e-04, 2.29086765e-04,\n",
       "       3.16227766e-04, 4.36515832e-04, 6.02559586e-04, 8.31763771e-04,\n",
       "       1.14815362e-03, 1.58489319e-03, 2.18776162e-03, 3.01995172e-03,\n",
       "       4.16869383e-03, 5.75439937e-03, 7.94328235e-03, 1.09647820e-02,\n",
       "       1.51356125e-02, 2.08929613e-02, 2.88403150e-02, 3.98107171e-02,\n",
       "       5.49540874e-02, 7.58577575e-02, 1.04712855e-01, 1.44543977e-01,\n",
       "       1.99526231e-01, 2.75422870e-01, 3.80189396e-01, 5.24807460e-01,\n",
       "       7.24435960e-01, 1.00000000e+00])"
      ]
     },
     "execution_count": 170,
     "metadata": {},
     "output_type": "execute_result"
    }
   ],
   "source": [
    "np.array(lrs)"
   ]
  },
  {
   "cell_type": "code",
   "execution_count": 169,
   "metadata": {},
   "outputs": [
    {
     "data": {
      "text/plain": [
       "array([-15.79573374, -15.47337182, -15.15100991, -14.828648  ,\n",
       "       -14.50628609, -14.18392417, -13.86156226, -13.53920035,\n",
       "       -13.21683843, -12.89447652, -12.57211461, -12.24975269,\n",
       "       -11.92739078, -11.60502887, -11.28266696, -10.96030504,\n",
       "       -10.63794313, -10.31558122,  -9.9932193 ,  -9.67085739,\n",
       "        -9.34849548,  -9.02613356,  -8.70377165,  -8.38140974,\n",
       "        -8.05904783,  -7.73668591,  -7.414324  ,  -7.09196209,\n",
       "        -6.76960017,  -6.44723826,  -6.12487635,  -5.80251443,\n",
       "        -5.48015252,  -5.15779061,  -4.8354287 ,  -4.51306678,\n",
       "        -4.19070487,  -3.86834296,  -3.54598104,  -3.22361913,\n",
       "        -2.90125722,  -2.5788953 ,  -2.25653339,  -1.93417148,\n",
       "        -1.61180957,  -1.28944765,  -0.96708574,  -0.64472383,\n",
       "        -0.32236191,   0.        ])"
      ]
     },
     "execution_count": 169,
     "metadata": {},
     "output_type": "execute_result"
    }
   ],
   "source": [
    "np.log(lrs)"
   ]
  },
  {
   "cell_type": "code",
   "execution_count": 161,
   "metadata": {},
   "outputs": [
    {
     "data": {
      "text/plain": [
       "[<matplotlib.lines.Line2D at 0x27cc2a2d448>]"
      ]
     },
     "execution_count": 161,
     "metadata": {},
     "output_type": "execute_result"
    },
    {
     "data": {
      "image/png": "[encoded data removed]",
      "text/plain": [
       "<Figure size 432x288 with 1 Axes>"
      ]
     },
     "metadata": {
      "needs_background": "light"
     },
     "output_type": "display_data"
    }
   ],
   "source": [
    "sched = Scheduler((1e-7, 1), n_iter=50, func=annealing_linear)\n",
    "lrs=[sched.step() for _ in range(50)]\n",
    "plt.plot(lrs)"
   ]
  },
  {
   "cell_type": "code",
   "execution_count": 162,
   "metadata": {},
   "outputs": [
    {
     "name": "stdout",
     "output_type": "stream",
     "text": [
      "LR Finder is complete, type {learner_name}.recorder.plot() to see the graph.\n",
      "[4.675193958081134, 5.052031701748948, 5.419076684540981, 5.7798068914393035, 6.1353956033495916, 6.481178083252281, 6.818565794494492, 7.151490010115909, 7.4777759772018, 7.797935814484545, 8.11073138972928, 8.419218188202317, 8.720717623991186, 9.019495814302731, 9.376490467661604, 9.72565888046871, 10.066109727879935, 10.401002957859996, 10.728341268053228, 11.051252293606165, 11.36555188085553, 11.672257452430314, 11.974598991709497, 12.271470553955233, 12.561655037338712, 12.846571974834278, 13.124689735395576, 13.398516686632638, 13.666514120138602, 13.928289304578483, 14.185793030854162, 14.438339026793017, 14.68481390971312, 14.924655794227139]\n",
      "[2.5118864315095806e-06, 3.4673685045253164e-06, 4.7863009232263826e-06, 6.606934480075961e-06, 9.120108393559101e-06, 1.258925411794167e-05, 1.7378008287493757e-05, 2.3988329190194914e-05, 3.3113112148259103e-05, 4.57088189614875e-05, 6.309573444801935e-05, 8.709635899560804e-05, 0.00012022644346174128, 0.00016595869074375612, 0.00022908676527677726, 0.00031622776601683794, 0.0004365158322401661, 0.000602559586074358, 0.0008317637711026716, 0.001148153621496882, 0.001584893192461113, 0.0021877616239495525, 0.0030199517204020166, 0.004168693834703356, 0.0057543993733715736, 0.007943282347242809, 0.010964781961431845, 0.015135612484362078, 0.020892961308540396, 0.02884031503126607, 0.039810717055349755, 0.054954087385762414, 0.07585775750291834, 0.10471285480508992]\n"
     ]
    },
    {
     "data": {
      "image/png": "[encoded data removed]",
      "text/plain": [
       "<Figure size 432x288 with 1 Axes>"
      ]
     },
     "metadata": {
      "needs_background": "light"
     },
     "output_type": "display_data"
    }
   ],
   "source": [
    "lr_find(start_lr=1e-7, end_lr=1, num_it=50, stop_div=True, wd=None)"
   ]
  },
  {
   "cell_type": "code",
   "execution_count": 164,
   "metadata": {},
   "outputs": [
    {
     "name": "stdout",
     "output_type": "stream",
     "text": [
      "LR Finder is complete, type {learner_name}.recorder.plot() to see the graph.\n",
      "[4.675193958081134, 5.052031701748948, 5.419076684540981, 5.7798068914393035, 6.1353956033495916, 6.481178083252281, 6.818565794494492, 7.151490010115909, 7.4777759772018, 7.797935814484545, 8.11073138972928, 8.419218188202317, 8.720717623991186, 9.019495814302731, 9.376490467661604, 9.72565888046871, 10.066109727879935, 10.401002957859996, 10.728341268053228, 11.051252293606165, 11.36555188085553, 11.672257452430314, 11.974598991709497, 12.271470553955233, 12.561655037338712, 12.846571974834278, 13.124689735395576, 13.398516686632638, 13.666514120138602, 13.928289304578483, 14.185793030854162, 14.438339026793017, 14.68481390971312, 14.924655794227139]\n",
      "[2.5118864315095806e-06, 3.4673685045253164e-06, 4.7863009232263826e-06, 6.606934480075961e-06, 9.120108393559101e-06, 1.258925411794167e-05, 1.7378008287493757e-05, 2.3988329190194914e-05, 3.3113112148259103e-05, 4.57088189614875e-05, 6.309573444801935e-05, 8.709635899560804e-05, 0.00012022644346174128, 0.00016595869074375612, 0.00022908676527677726, 0.00031622776601683794, 0.0004365158322401661, 0.000602559586074358, 0.0008317637711026716, 0.001148153621496882, 0.001584893192461113, 0.0021877616239495525, 0.0030199517204020166, 0.004168693834703356, 0.0057543993733715736, 0.007943282347242809, 0.010964781961431845, 0.015135612484362078, 0.020892961308540396, 0.02884031503126607, 0.039810717055349755, 0.054954087385762414, 0.07585775750291834, 0.10471285480508992]\n"
     ]
    },
    {
     "data": {
      "image/png": "[encoded data removed]",
      "text/plain": [
       "<Figure size 432x288 with 1 Axes>"
      ]
     },
     "metadata": {
      "needs_background": "light"
     },
     "output_type": "display_data"
    }
   ],
   "source": [
    "lr_find(start_lr=1e-7, end_lr=1, num_it=50, stop_div=True, wd=None, annealing_func=annealing_exp)"
   ]
  },
  {
   "cell_type": "code",
   "execution_count": null,
   "metadata": {},
   "outputs": [],
   "source": []
  }
 ],
 "metadata": {
  "kernelspec": {
   "display_name": "Python 3.7.4 64-bit ('base': conda)",
   "language": "python",
   "name": "python37464bitbaseconda3c2e7dd945fe4d1ba39ed3bbf64cdaac"
  },
  "language_info": {
   "codemirror_mode": {
    "name": "ipython",
    "version": 3
   },
   "file_extension": ".py",
   "mimetype": "text/x-python",
   "name": "python",
   "nbconvert_exporter": "python",
   "pygments_lexer": "ipython3",
   "version": "3.7.4"
  }
 },
 "nbformat": 4,
 "nbformat_minor": 2
}
